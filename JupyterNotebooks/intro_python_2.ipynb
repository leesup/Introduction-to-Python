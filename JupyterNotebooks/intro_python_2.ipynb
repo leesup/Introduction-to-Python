{
  "nbformat": 4,
  "nbformat_minor": 0,
  "metadata": {
    "colab": {
      "name": "python_intro_part_2.ipynb",
      "provenance": [],
      "collapsed_sections": [
        "4fn4Qfft3GB-",
        "noZq3BIkqL_m",
        "C3EQdmcB5S0_",
        "SuzXLB1Xs72y",
        "QOa3BbYbrtDG",
        "J4XmWO6c6Zat",
        "Rq83TdHPQorr",
        "jWmOxcN8tezl",
        "eMHj5f79t7vM",
        "xwHjvN88uGE0",
        "cPPxem8ocAjy",
        "9U32TajovRc3",
        "ir6RhvmzlN8G",
        "bmyz6SOdopPw",
        "qDWSWCWivXwm",
        "_BjB8hGWvmrt",
        "PPL8IDWOvvS_",
        "YWhRZYARvxs2"
      ]
    },
    "kernelspec": {
      "name": "python3",
      "display_name": "Python 3"
    }
  },
  "cells": [
    {
      "cell_type": "markdown",
      "metadata": {
        "id": "K0fYGeLuluwY",
        "colab_type": "text"
      },
      "source": [
        "# Introduction to Python (Part Two) \n",
        "\n",
        "Welcome to the second half of our Intro to Python tutorial!\n",
        "\n",
        "\n",
        "\n",
        "\n",
        "\n",
        "\n",
        "\n",
        "\n"
      ]
    },
    {
      "cell_type": "markdown",
      "metadata": {
        "id": "4fn4Qfft3GB-",
        "colab_type": "text"
      },
      "source": [
        "## **Table of Contents**"
      ]
    },
    {
      "cell_type": "markdown",
      "metadata": {
        "id": "ioVO71526-JG",
        "colab_type": "text"
      },
      "source": [
        "\n",
        "1. Condtional Logic Statements\n",
        "2. Loops\n",
        "3. File Input and Output\n",
        "4. NumPy\n",
        "5. Pandas\n",
        "6. Matplotlib"
      ]
    },
    {
      "cell_type": "markdown",
      "metadata": {
        "id": "AJI_15n_6AA7",
        "colab_type": "text"
      },
      "source": [
        "**How to download and use Python** \n",
        "\n",
        "The most preferred way is to use Anaconda. https://www.anaconda.com/\n",
        "\n",
        "It serves a role as a package manager with preinstalled powerful packages such as\n",
        "* Numpy (Numerical Python)\n",
        "* Pandas (Python Data Analysis Library)\n",
        "* Scipy \n",
        "* Matplotlib\n"
      ]
    },
    {
      "cell_type": "markdown",
      "metadata": {
        "id": "xwHjvN88uGE0",
        "colab_type": "text"
      },
      "source": [
        "## 1. **Conditional Logic Statements**\n"
      ]
    },
    {
      "cell_type": "markdown",
      "metadata": {
        "id": "Ix6avXWc60PF",
        "colab_type": "text"
      },
      "source": [
        "Conditional statements in python can be used for decision making in order to change the behavior of a program as necessary. "
      ]
    },
    {
      "cell_type": "markdown",
      "metadata": {
        "id": "Nn_fO-qXROuR",
        "colab_type": "text"
      },
      "source": [
        "### IF statements\n",
        "* The simplest form of a conditional statement is known as the ' if statement' \n",
        "* The general premise is that the interpreter will only run the block of code IF your condition is matched\n",
        "* A boolean expression is evaluated and if it matches, the code will be executed (remember a boolean is TRUE or FALSE)\n",
        "\n"
      ]
    },
    {
      "cell_type": "code",
      "metadata": {
        "id": "pBFCG8PaSXhR",
        "colab_type": "code",
        "colab": {}
      },
      "source": [
        "# a very simple example\n",
        "x=1 # we set the variable to equal 3\n",
        "\n",
        "if x>2:  \n",
        "  print('The number is bigger than 2') \n",
        "  \n",
        "# we say that IF x is equal to three\n",
        "  #THEN print the string 'The number is 3'"
      ],
      "execution_count": null,
      "outputs": []
    },
    {
      "cell_type": "markdown",
      "metadata": {
        "id": "zqeZl0CIS-1W",
        "colab_type": "text"
      },
      "source": [
        "The string ' The number is 3' was printed because the boolean expression of 'if x ==3' was true. \n",
        "\n",
        "There are some important things to note in the example above:\n",
        "* The boolean expression starts with an 'if' and ends with a colon (:)\n",
        "* The statements that follow must be **indented** in order to be a part of the 'if block' and be run under the condition\n",
        "* It is necessary to use the '==' in the conditional statement\n",
        "  - This is because '=' is an assignment operator but '==' is a comparison operator\n",
        "\n",
        "Let's take a look at if the expression is not true:\n",
        "\n"
      ]
    },
    {
      "cell_type": "code",
      "metadata": {
        "id": "UsDYJ-zWTTQh",
        "colab_type": "code",
        "colab": {}
      },
      "source": [
        "x=10 # we set the variable equal to 10\n",
        "\n",
        "if x==3:\n",
        "  print('The number is 3')"
      ],
      "execution_count": null,
      "outputs": []
    },
    {
      "cell_type": "markdown",
      "metadata": {
        "id": "eAAkiuZUTdQG",
        "colab_type": "text"
      },
      "source": [
        "As you can see, nothing was printed because our boolean expression was not true. \n",
        "\n"
      ]
    },
    {
      "cell_type": "markdown",
      "metadata": {
        "id": "map8uM7ndzGg",
        "colab_type": "text"
      },
      "source": [
        "*Create an 'if statement' that IF the variable 'movie' is equal to 'Frozen' print 'Let it Go'.* I will start you off with the variable to be tested."
      ]
    },
    {
      "cell_type": "code",
      "metadata": {
        "id": "-Jigx2rveyla",
        "colab_type": "code",
        "colab": {}
      },
      "source": [
        "movie='Frozen'\n",
        "\n",
        "if movie == 'Frozen':\n",
        "  print('Let it Go')"
      ],
      "execution_count": null,
      "outputs": []
    },
    {
      "cell_type": "markdown",
      "metadata": {
        "id": "Oos601FrfVqu",
        "colab_type": "text"
      },
      "source": [
        "Is there a way to test our boolean expression on one or more outcomes?\n",
        "\n",
        "**Yess!!** \n",
        "\n",
        "We can do this through 'elif' and 'else' statements. "
      ]
    },
    {
      "cell_type": "markdown",
      "metadata": {
        "id": "y0rFdXoSZGcf",
        "colab_type": "text"
      },
      "source": [
        "### ELSE statements\n",
        "\n",
        "* Else statements can be used in conjunction with If statements in order to create an alternative output if our intial boolean expression is not true\n",
        "* **Pay attention to the syntax (indentation and colon use)**"
      ]
    },
    {
      "cell_type": "code",
      "metadata": {
        "id": "FAtyt0JzZoDG",
        "colab_type": "code",
        "colab": {
          "base_uri": "https://localhost:8080/",
          "height": 35
        },
        "outputId": "1fc8c548-8eb0-47eb-f04e-5de1f52ffa51"
      },
      "source": [
        "# for example\n",
        "x =3 # we set the variable equal to 3\n",
        "\n",
        "if x==3:\n",
        "  print('The number is 3')\n",
        "else:\n",
        "  print('The number is not 3')\n"
      ],
      "execution_count": null,
      "outputs": [
        {
          "output_type": "stream",
          "text": [
            "The number is 3\n"
          ],
          "name": "stdout"
        }
      ]
    },
    {
      "cell_type": "markdown",
      "metadata": {
        "id": "aYnYC70QalHw",
        "colab_type": "text"
      },
      "source": [
        "When x is equal to 3 the else statement is ignored.\n",
        "\n",
        "Let's take a look at what happens when x is NOT equal to 3. "
      ]
    },
    {
      "cell_type": "code",
      "metadata": {
        "id": "OemmQImdaNNZ",
        "colab_type": "code",
        "colab": {
          "base_uri": "https://localhost:8080/",
          "height": 35
        },
        "outputId": "895e520a-bb3e-47d7-a4cd-61d673091eb2"
      },
      "source": [
        "x = 10\n",
        "\n",
        "if x==3:\n",
        "  print('The number is 3')\n",
        "else:\n",
        "  print('The number is not 3')"
      ],
      "execution_count": null,
      "outputs": [
        {
          "output_type": "stream",
          "text": [
            "The number is not 3\n"
          ],
          "name": "stdout"
        }
      ]
    },
    {
      "cell_type": "markdown",
      "metadata": {
        "id": "vWPXM2CAbhIX",
        "colab_type": "text"
      },
      "source": [
        "In the above example, the if statement was not true, so the interpreter executed the else statement which indicates that the number is not 3. \n",
        "\n",
        "What happens if we want to evaluate our code on the basis of more than two conditions? We will use an elif statement.\n"
      ]
    },
    {
      "cell_type": "markdown",
      "metadata": {
        "id": "cPPxem8ocAjy",
        "colab_type": "text"
      },
      "source": [
        "### ELIF Statements\n",
        "* Elif is an abbreviation of 'else if.'\n",
        "* Elif statements combine both if and else statements in order to create more conditions for evaluation. \n",
        "* An elif statement can conatin more than one 'elif'\n",
        "* **Again, pay attention to the syntax**"
      ]
    },
    {
      "cell_type": "code",
      "metadata": {
        "id": "HppBpfNecZjU",
        "colab_type": "code",
        "colab": {
          "base_uri": "https://localhost:8080/",
          "height": 35
        },
        "outputId": "b621d11a-60eb-4899-dba9-b4cf179b85a6"
      },
      "source": [
        "# for example\n",
        "x = 5\n",
        "\n",
        "if x==3:\n",
        "  print('The number is 3')\n",
        "elif x==5:\n",
        "  print('The number is 5')\n",
        "elif x==100:\n",
        "  print('The number is 100')\n",
        "else:\n",
        "  print('The number is not 3 or 5')"
      ],
      "execution_count": null,
      "outputs": [
        {
          "output_type": "stream",
          "text": [
            "The number is 5\n"
          ],
          "name": "stdout"
        }
      ]
    },
    {
      "cell_type": "markdown",
      "metadata": {
        "id": "hkNeJmNBc_34",
        "colab_type": "text"
      },
      "source": [
        "You can see that the if statement was not true, so the next line of code was executed and since the number was 5, the result was printed.\n",
        "\n",
        "Let's take a look at what happens if the number is not 3 or 5. "
      ]
    },
    {
      "cell_type": "code",
      "metadata": {
        "id": "7f7FK2DndOe1",
        "colab_type": "code",
        "colab": {
          "base_uri": "https://localhost:8080/",
          "height": 35
        },
        "outputId": "0ef6e9cd-5422-46c8-c3ce-b794ed4be0d8"
      },
      "source": [
        "x = 10\n",
        "\n",
        "if x==10 and x>5:\n",
        "  print('The number is 10 and bigger than 5')\n",
        "elif x==10:\n",
        "  print('The number is 10')\n",
        "elif x==10:\n",
        "  print('Hurray!!!')\n",
        "else:\n",
        "  print('The number is not 3 or 5')"
      ],
      "execution_count": null,
      "outputs": [
        {
          "output_type": "stream",
          "text": [
            "The number is 10 and bigger than 5\n"
          ],
          "name": "stdout"
        }
      ]
    },
    {
      "cell_type": "markdown",
      "metadata": {
        "id": "Gg8s-p_CdXfP",
        "colab_type": "text"
      },
      "source": [
        "You can see that the 'if statement' was not true so the interpreter moved to the 'else if' statement which was also not true, then moved to the second 'else if' statement and then finally executed the 'else statement' which was printed. "
      ]
    },
    {
      "cell_type": "markdown",
      "metadata": {
        "id": "o1S64R5ifhim",
        "colab_type": "text"
      },
      "source": [
        "*Identify and fix the error in the if-elif-else code block below:*"
      ]
    },
    {
      "cell_type": "code",
      "metadata": {
        "id": "2mvBWxxAfw1N",
        "colab_type": "code",
        "colab": {
          "base_uri": "https://localhost:8080/",
          "height": 131
        },
        "outputId": "a459bf8f-c1eb-4a2a-f49c-34cc5f9e2ca9"
      },
      "source": [
        "fruit='pineapple'\n",
        "\n",
        "if fruit=='orange'\n",
        "  print('orange')\n",
        "elif fruit=='tomato':\n",
        "  print('tomato is a fruit!')\n",
        "else:\n",
        "  print('not an orange or tomato')\n"
      ],
      "execution_count": null,
      "outputs": [
        {
          "output_type": "error",
          "ename": "SyntaxError",
          "evalue": "ignored",
          "traceback": [
            "\u001b[0;36m  File \u001b[0;32m\"<ipython-input-102-6df98b8478a6>\"\u001b[0;36m, line \u001b[0;32m3\u001b[0m\n\u001b[0;31m    if fruit=='orange'\u001b[0m\n\u001b[0m                      ^\u001b[0m\n\u001b[0;31mSyntaxError\u001b[0m\u001b[0;31m:\u001b[0m invalid syntax\n"
          ]
        }
      ]
    },
    {
      "cell_type": "markdown",
      "metadata": {
        "id": "UagsmuNKg5yJ",
        "colab_type": "text"
      },
      "source": [
        "*What will be the output of the following conditonal statement? Make your prediciton BEFORE running the code.*"
      ]
    },
    {
      "cell_type": "code",
      "metadata": {
        "id": "tGb_fT50g-4w",
        "colab_type": "code",
        "colab": {
          "base_uri": "https://localhost:8080/",
          "height": 35
        },
        "outputId": "757397dc-9540-4570-9688-5f08fc66e5bd"
      },
      "source": [
        "x = 2\n",
        "\n",
        "if x>1:\n",
        "  print('x is greater than 1')\n",
        "elif x==4:\n",
        "  print('x is equal to 4')\n",
        "else:\n",
        "  print('x is not 4 or greater than 1')"
      ],
      "execution_count": null,
      "outputs": [
        {
          "output_type": "stream",
          "text": [
            "x is greater than 1\n"
          ],
          "name": "stdout"
        }
      ]
    },
    {
      "cell_type": "markdown",
      "metadata": {
        "id": "bG5VIw33hfB-",
        "colab_type": "text"
      },
      "source": [
        "*What about the following statement? Again, make your prediciton BEFORE running the code.*"
      ]
    },
    {
      "cell_type": "code",
      "metadata": {
        "id": "2TZVTKjlhx59",
        "colab_type": "code",
        "colab": {
          "base_uri": "https://localhost:8080/",
          "height": 35
        },
        "outputId": "075515bb-6f76-4eea-e81b-14461ba3477e"
      },
      "source": [
        "x = 0\n",
        "\n",
        "if x>1:\n",
        "  print('x is greater than 1')\n",
        "elif x==4:\n",
        "  print('x is equal to 4')\n",
        "else:\n",
        "  print('x is not 4 or greater than 1')"
      ],
      "execution_count": null,
      "outputs": [
        {
          "output_type": "stream",
          "text": [
            "x is not 4 or greater than 1\n"
          ],
          "name": "stdout"
        }
      ]
    },
    {
      "cell_type": "markdown",
      "metadata": {
        "id": "9U32TajovRc3",
        "colab_type": "text"
      },
      "source": [
        "## 2. **Loops**"
      ]
    },
    {
      "cell_type": "markdown",
      "metadata": {
        "id": "D11yYZx57Fcl",
        "colab_type": "text"
      },
      "source": [
        "Loops are good for repeating specific commands over every single object of a type or data structure!"
      ]
    },
    {
      "cell_type": "markdown",
      "metadata": {
        "id": "ir6RhvmzlN8G",
        "colab_type": "text"
      },
      "source": [
        "### For Loops\n",
        "\n",
        "A for loop is used to iterate over objects in python. In other words, a loop will perform the same operation on each individual element of an object. \n",
        "* loops can be used on **strings, lists, tuples and dictionaries**\n",
        "* pay attention to the syntax of the for loop; it is similar to that of a conditional statement!\n",
        "  - especially the indentation!"
      ]
    },
    {
      "cell_type": "markdown",
      "metadata": {
        "id": "1Zb3oVximWq_",
        "colab_type": "text"
      },
      "source": [
        "Let's practice by iterating over a string:"
      ]
    },
    {
      "cell_type": "code",
      "metadata": {
        "id": "avJsd_RtmPv5",
        "colab_type": "code",
        "colab": {
          "base_uri": "https://localhost:8080/",
          "height": 140
        },
        "outputId": "cfbf7695-8bb3-48e5-b95c-a44bf13ce016"
      },
      "source": [
        "x='science'\n",
        "for letter in x:\n",
        "  print(letter)"
      ],
      "execution_count": null,
      "outputs": [
        {
          "output_type": "stream",
          "text": [
            "s\n",
            "c\n",
            "i\n",
            "e\n",
            "n\n",
            "c\n",
            "e\n"
          ],
          "name": "stdout"
        }
      ]
    },
    {
      "cell_type": "markdown",
      "metadata": {
        "id": "DBOGkLx5msTv",
        "colab_type": "text"
      },
      "source": [
        "As you can see, each letter or 'item' of the string 'science' was printed individually. For each 'item' in the string, the interpreter prints it and then loops back to the top and starts with the next letter and keeps going until the string ends.\n",
        "\n",
        "It is important to note that that word 'item' is arbitrary and could be any variable, for example:\n"
      ]
    },
    {
      "cell_type": "code",
      "metadata": {
        "id": "DKzxbU_7nsyz",
        "colab_type": "code",
        "colab": {
          "base_uri": "https://localhost:8080/",
          "height": 140
        },
        "outputId": "03b60030-8993-4471-fe25-eaf052650545"
      },
      "source": [
        "x='science'\n",
        "for j in x:\n",
        "  print(j)"
      ],
      "execution_count": null,
      "outputs": [
        {
          "output_type": "stream",
          "text": [
            "s\n",
            "c\n",
            "i\n",
            "e\n",
            "n\n",
            "c\n",
            "e\n"
          ],
          "name": "stdout"
        }
      ]
    },
    {
      "cell_type": "markdown",
      "metadata": {
        "id": "F3EbikGLn0_6",
        "colab_type": "text"
      },
      "source": [
        "When we changed the variable to 'j' it did not change the outcome of the loop. "
      ]
    },
    {
      "cell_type": "markdown",
      "metadata": {
        "id": "I17s7rT5oA48",
        "colab_type": "text"
      },
      "source": [
        "Remember the list 'my_list' we created earlier? Let's look at that again using a for loop."
      ]
    },
    {
      "cell_type": "code",
      "metadata": {
        "id": "TkZWi_swoLPg",
        "colab_type": "code",
        "colab": {
          "base_uri": "https://localhost:8080/",
          "height": 105
        },
        "outputId": "9092bc23-f16f-47cc-e179-448610c57ba1"
      },
      "source": [
        "for x in my_list:\n",
        "  print(x)"
      ],
      "execution_count": null,
      "outputs": [
        {
          "output_type": "stream",
          "text": [
            "1\n",
            "Hello\n",
            "52.4\n",
            "World\n",
            "True\n"
          ],
          "name": "stdout"
        }
      ]
    },
    {
      "cell_type": "markdown",
      "metadata": {
        "id": "OY3QlzF4oUuy",
        "colab_type": "text"
      },
      "source": [
        "*Create a for loop that prints out each individual element of your favorite ice cream flavor. Remember that you named this variable your FIRST NAME!*"
      ]
    },
    {
      "cell_type": "code",
      "metadata": {
        "id": "paE-oFB2ogkQ",
        "colab_type": "code",
        "colab": {}
      },
      "source": [
        ""
      ],
      "execution_count": null,
      "outputs": []
    },
    {
      "cell_type": "markdown",
      "metadata": {
        "id": "bmyz6SOdopPw",
        "colab_type": "text"
      },
      "source": [
        "###For loops with more complexity\n",
        "\n",
        "It is possible to combine a for loop and a conditional statement:"
      ]
    },
    {
      "cell_type": "code",
      "metadata": {
        "id": "S2cCv1ibo-L9",
        "colab_type": "code",
        "colab": {
          "base_uri": "https://localhost:8080/",
          "height": 105
        },
        "outputId": "2f4af98e-02d7-49b4-c250-b4c940ac7595"
      },
      "source": [
        "# let's look at my_list again\n",
        "\n",
        "for item in my_list:\n",
        "  if item=='World':\n",
        "    print('Out of this World!')\n",
        "  else:\n",
        "    print('Not out of this World')"
      ],
      "execution_count": null,
      "outputs": [
        {
          "output_type": "stream",
          "text": [
            "Not out of this World\n",
            "Not out of this World\n",
            "Not out of this World\n",
            "Out of this World!\n",
            "Not out of this World\n"
          ],
          "name": "stdout"
        }
      ]
    },
    {
      "cell_type": "markdown",
      "metadata": {
        "id": "-DPCFJn7pTvS",
        "colab_type": "text"
      },
      "source": [
        "*What happens when we combine a for loop and conditional statement?*"
      ]
    },
    {
      "cell_type": "markdown",
      "metadata": {
        "id": "O0VVaT5Opb-V",
        "colab_type": "text"
      },
      "source": [
        "It is also possible to create a nested for loop, which is a for loop INSIDE of another for loop:\n"
      ]
    },
    {
      "cell_type": "code",
      "metadata": {
        "id": "7C49q3wDpjiG",
        "colab_type": "code",
        "colab": {
          "base_uri": "https://localhost:8080/",
          "height": 299
        },
        "outputId": "8d5f0a42-fb84-4f56-c56b-9c96229b44ad"
      },
      "source": [
        "x=[1, 2, 3, 4]\n",
        "y=[2, 4, 6, 2]\n",
        "\n",
        "for i in x:\n",
        "  for j in y:\n",
        "    if i==j:\n",
        "      print('Equal!')\n",
        "    else:\n",
        "      print('Not Equal')"
      ],
      "execution_count": null,
      "outputs": [
        {
          "output_type": "stream",
          "text": [
            "Not Equal\n",
            "Not Equal\n",
            "Not Equal\n",
            "Not Equal\n",
            "Equal!\n",
            "Not Equal\n",
            "Not Equal\n",
            "Equal!\n",
            "Not Equal\n",
            "Not Equal\n",
            "Not Equal\n",
            "Not Equal\n",
            "Not Equal\n",
            "Equal!\n",
            "Not Equal\n",
            "Not Equal\n"
          ],
          "name": "stdout"
        }
      ]
    },
    {
      "cell_type": "markdown",
      "metadata": {
        "id": "GLCeF8QlqCB4",
        "colab_type": "text"
      },
      "source": [
        "The above code loops through each list simultaneously and compares each element of 'x' to each element of 'y' and prints when it is equal. "
      ]
    },
    {
      "cell_type": "markdown",
      "metadata": {
        "id": "ZOQG2vKqrFmK",
        "colab_type": "text"
      },
      "source": [
        "###While Loops\n",
        "While loops are useful for iterating through an object as long as certain requirements are TRUE. "
      ]
    },
    {
      "cell_type": "code",
      "metadata": {
        "id": "_TXIuw5Lrnrd",
        "colab_type": "code",
        "colab": {
          "base_uri": "https://localhost:8080/",
          "height": 123
        },
        "outputId": "2d93da03-afd2-4e19-8983-73cc19a2c331"
      },
      "source": [
        "# for example\n",
        "\n",
        "x = 1\n",
        "while x < 7:\n",
        "  print(x)\n",
        "  x+=1\n"
      ],
      "execution_count": null,
      "outputs": [
        {
          "output_type": "stream",
          "text": [
            "1\n",
            "2\n",
            "3\n",
            "4\n",
            "5\n",
            "6\n"
          ],
          "name": "stdout"
        }
      ]
    },
    {
      "cell_type": "markdown",
      "metadata": {
        "id": "shDkeFfcsQxM",
        "colab_type": "text"
      },
      "source": [
        "The above code prints 'x' as long as it is less than 7. X starts equal to 1 and after each iteration of the loop is increased by +1. Notice that the x+=1 is placed INSIDE of the while loop. Therefore, the while loop goes through 6 iterations before stopping. \n"
      ]
    },
    {
      "cell_type": "markdown",
      "metadata": {
        "id": "OcnFKvwOtVlq",
        "colab_type": "text"
      },
      "source": [
        "*Fix the error in the while loop below:* Note: It will go on forever unless you fix it; need to press the stop button in order to terminate the run. "
      ]
    },
    {
      "cell_type": "code",
      "metadata": {
        "id": "LBSJKGPStksG",
        "colab_type": "code",
        "colab": {
          "base_uri": "https://localhost:8080/",
          "height": 123
        },
        "outputId": "b71de038-71d9-4a40-9dda-d8c25f68d440"
      },
      "source": [
        "x = 1\n",
        "while x < 7:\n",
        "  print(x)\n",
        "  x+=1"
      ],
      "execution_count": null,
      "outputs": [
        {
          "output_type": "stream",
          "text": [
            "1\n",
            "2\n",
            "3\n",
            "4\n",
            "5\n",
            "6\n"
          ],
          "name": "stdout"
        }
      ]
    },
    {
      "cell_type": "markdown",
      "metadata": {
        "id": "qDWSWCWivXwm",
        "colab_type": "text"
      },
      "source": [
        "## 3. **File Input and Output**\n"
      ]
    },
    {
      "cell_type": "markdown",
      "metadata": {
        "id": "I5ArGsZHQg1Y",
        "colab_type": "text"
      },
      "source": [
        "Let's start by writing a file. Here we are writing a message from the instructors to students."
      ]
    },
    {
      "cell_type": "code",
      "metadata": {
        "id": "KOU4QKgeQh4F",
        "colab_type": "code",
        "colab": {}
      },
      "source": [
        "file1 = open(\"message.txt\", \"w\") # the \"w\" indicates write and the \"message.txt\" will be the name of the file\n",
        "file1.write(\"Hello Postbacs, are you enjoying the Introduction to Python workshop so far?\")\n",
        "file1.close()"
      ],
      "execution_count": null,
      "outputs": []
    },
    {
      "cell_type": "markdown",
      "metadata": {
        "id": "dRc2PugvRhl8",
        "colab_type": "text"
      },
      "source": [
        "Now let's open it and see what is looks like!"
      ]
    },
    {
      "cell_type": "code",
      "metadata": {
        "id": "WgjzTqCVTSeG",
        "colab_type": "code",
        "colab": {}
      },
      "source": [
        "file1 = open(\"message.txt\", \"r\") # the \"r\" indicated read and, again, the \"message.txt\" is the name of the file\n",
        "print(file1.read())\n",
        "file1.close()"
      ],
      "execution_count": null,
      "outputs": []
    },
    {
      "cell_type": "markdown",
      "metadata": {
        "id": "ik1iheT-TerG",
        "colab_type": "text"
      },
      "source": [
        "Let's reply to that message with your opinion."
      ]
    },
    {
      "cell_type": "code",
      "metadata": {
        "id": "SjQwK2unQtKn",
        "colab_type": "code",
        "colab": {}
      },
      "source": [
        "file2 = open(\"reply.txt\", \"w\")\n",
        "file2.write(\"I am hungry!\")\n",
        "file2.close()"
      ],
      "execution_count": null,
      "outputs": []
    },
    {
      "cell_type": "markdown",
      "metadata": {
        "id": "RfdoJybIToHa",
        "colab_type": "text"
      },
      "source": [
        "There are other ways you can open and read the message."
      ]
    },
    {
      "cell_type": "code",
      "metadata": {
        "id": "o26tVovqQuuI",
        "colab_type": "code",
        "colab": {}
      },
      "source": [
        "file2 = open(\"reply.txt\", \"r\")\n",
        "for line in file2:\n",
        "    print(line)\n",
        "file2.close()"
      ],
      "execution_count": null,
      "outputs": []
    },
    {
      "cell_type": "markdown",
      "metadata": {
        "id": "_BjB8hGWvmrt",
        "colab_type": "text"
      },
      "source": [
        "## 4. **NumPy**"
      ]
    },
    {
      "cell_type": "markdown",
      "metadata": {
        "id": "0bC2Sv4U7VDP",
        "colab_type": "text"
      },
      "source": [
        "Numpy (Numerical Python) is a powerful library that allows you to use multidimensional array objects. It is commonly used to process data due to its speed and amazing data storing ways. Let's import numpy as np and see what it is capable of doing."
      ]
    },
    {
      "cell_type": "code",
      "metadata": {
        "id": "RowD6SCD7WTV",
        "colab_type": "code",
        "colab": {}
      },
      "source": [
        "import numpy as np"
      ],
      "execution_count": null,
      "outputs": []
    },
    {
      "cell_type": "markdown",
      "metadata": {
        "id": "ljCOjwXEBUCm",
        "colab_type": "text"
      },
      "source": [
        "Before starting to dig in, let's review \"list\" and how it is structured. Here we make a list of floats, integers, and strings."
      ]
    },
    {
      "cell_type": "code",
      "metadata": {
        "id": "gD4hLKQvBQ9d",
        "colab_type": "code",
        "colab": {}
      },
      "source": [
        "list_example = [ 1, \"2\", 3.0, 4, \"5\", 6.0, 7, \"8\", 9.0 ]"
      ],
      "execution_count": null,
      "outputs": []
    },
    {
      "cell_type": "code",
      "metadata": {
        "id": "pY8zTJyzBas1",
        "colab_type": "code",
        "colab": {
          "base_uri": "https://localhost:8080/",
          "height": 35
        },
        "outputId": "a70c298d-35e6-411e-d785-a1b40e3466f9"
      },
      "source": [
        "print(list_example)"
      ],
      "execution_count": null,
      "outputs": [
        {
          "output_type": "stream",
          "text": [
            "[1, '2', 3.0, 4, '5', 6.0, 7, '8', 9.0]\n"
          ],
          "name": "stdout"
        }
      ]
    },
    {
      "cell_type": "markdown",
      "metadata": {
        "id": "2kFj42iMcCAP",
        "colab_type": "text"
      },
      "source": [
        "Notice how different kinds of data types can co-exist in one list."
      ]
    },
    {
      "cell_type": "code",
      "metadata": {
        "id": "imsBdHMdBbsT",
        "colab_type": "code",
        "colab": {}
      },
      "source": [
        "print(list_example[0])\n",
        "print(type(list_example[0]))"
      ],
      "execution_count": null,
      "outputs": []
    },
    {
      "cell_type": "code",
      "metadata": {
        "id": "_cqd64iXBcp3",
        "colab_type": "code",
        "colab": {}
      },
      "source": [
        "print(list_example[1])\n",
        "print(type(list_example[1]))"
      ],
      "execution_count": null,
      "outputs": []
    },
    {
      "cell_type": "code",
      "metadata": {
        "id": "UGkq9OvIBdut",
        "colab_type": "code",
        "colab": {}
      },
      "source": [
        "print(list_example[2])\n",
        "print(type(list_example[2]))"
      ],
      "execution_count": null,
      "outputs": []
    },
    {
      "cell_type": "markdown",
      "metadata": {
        "id": "02l6ZBILcIGk",
        "colab_type": "text"
      },
      "source": [
        "Here we make a numpy array of integers."
      ]
    },
    {
      "cell_type": "code",
      "metadata": {
        "id": "-sk0FfeyBe7j",
        "colab_type": "code",
        "colab": {}
      },
      "source": [
        "numpy_example1 = np.array([1, 2, 3, 4, 5, 6, 7, 8, 9])"
      ],
      "execution_count": null,
      "outputs": []
    },
    {
      "cell_type": "code",
      "metadata": {
        "id": "C8F0eI09Bf8o",
        "colab_type": "code",
        "colab": {}
      },
      "source": [
        "print(numpy_example1[0])\n",
        "print(type(numpy_example1[0]))"
      ],
      "execution_count": null,
      "outputs": []
    },
    {
      "cell_type": "markdown",
      "metadata": {
        "id": "7NOT4Y75cMTd",
        "colab_type": "text"
      },
      "source": [
        "Here we make a numpy array of floats."
      ]
    },
    {
      "cell_type": "code",
      "metadata": {
        "id": "ET5BLIa4Bg8g",
        "colab_type": "code",
        "colab": {}
      },
      "source": [
        "numpy_example2 = np.array([1.0, 2.0, 3.0, 4.0, 5.0, 6.0, 7.0, 8.0, 9.0])"
      ],
      "execution_count": null,
      "outputs": []
    },
    {
      "cell_type": "code",
      "metadata": {
        "id": "l21KmjXeBmGH",
        "colab_type": "code",
        "colab": {}
      },
      "source": [
        "print(numpy_example2[0])\n",
        "print(type(numpy_example2[0]))"
      ],
      "execution_count": null,
      "outputs": []
    },
    {
      "cell_type": "markdown",
      "metadata": {
        "id": "hBcR_WqbcUKg",
        "colab_type": "text"
      },
      "source": [
        "Notice how only ONE data type can co-exist in a numpy array."
      ]
    },
    {
      "cell_type": "code",
      "metadata": {
        "id": "Tz-hI6MSBpIn",
        "colab_type": "code",
        "colab": {}
      },
      "source": [
        "numpy_example3 = np.array([1, 2.0, 3, 4.0, 5, 6.0, 7, 8.0, 9])"
      ],
      "execution_count": null,
      "outputs": []
    },
    {
      "cell_type": "code",
      "metadata": {
        "id": "cn5a1JyeBqxl",
        "colab_type": "code",
        "colab": {}
      },
      "source": [
        "print(type(numpy_example3[0]))\n",
        "print(type(numpy_example3[1]))\n",
        "print(type(numpy_example3[2]))"
      ],
      "execution_count": null,
      "outputs": []
    },
    {
      "cell_type": "code",
      "metadata": {
        "id": "5KbyQgLzBr4i",
        "colab_type": "code",
        "colab": {}
      },
      "source": [
        "numpy_example4 = np.array([1, 2.0, \"3\", 4.0, 5, 6.0, 7, 8.0, 9])"
      ],
      "execution_count": null,
      "outputs": []
    },
    {
      "cell_type": "code",
      "metadata": {
        "id": "YzHHVQMXBtbW",
        "colab_type": "code",
        "colab": {}
      },
      "source": [
        "print(type(numpy_example4[0]))\n",
        "print(type(numpy_example4[1]))\n",
        "print(type(numpy_example4[2]))"
      ],
      "execution_count": null,
      "outputs": []
    },
    {
      "cell_type": "markdown",
      "metadata": {
        "id": "GL-YWFn3cdA0",
        "colab_type": "text"
      },
      "source": [
        "Shape of a numpy array is important for storing data as you intend to store it. Notice how reshape changes the shape of a numpy array."
      ]
    },
    {
      "cell_type": "code",
      "metadata": {
        "id": "4OKiz-O4BuY4",
        "colab_type": "code",
        "colab": {}
      },
      "source": [
        "numpy_example5 = np.arange(1,10,1)"
      ],
      "execution_count": null,
      "outputs": []
    },
    {
      "cell_type": "code",
      "metadata": {
        "id": "BWOkDdnrBviz",
        "colab_type": "code",
        "colab": {}
      },
      "source": [
        "print(numpy_example5)\n",
        "print(numpy_example5.shape)"
      ],
      "execution_count": null,
      "outputs": []
    },
    {
      "cell_type": "code",
      "metadata": {
        "id": "4-QQ5gLFBwrN",
        "colab_type": "code",
        "colab": {}
      },
      "source": [
        "numpy_example5 = numpy_example5.reshape(1,9)"
      ],
      "execution_count": null,
      "outputs": []
    },
    {
      "cell_type": "code",
      "metadata": {
        "id": "bdTuEQwCByWc",
        "colab_type": "code",
        "colab": {}
      },
      "source": [
        "numpy_example5"
      ],
      "execution_count": null,
      "outputs": []
    },
    {
      "cell_type": "code",
      "metadata": {
        "id": "EBSAqFgHBzh9",
        "colab_type": "code",
        "colab": {}
      },
      "source": [
        "print(numpy_example5.shape)"
      ],
      "execution_count": null,
      "outputs": []
    },
    {
      "cell_type": "code",
      "metadata": {
        "id": "NiqBJBtSB1Yz",
        "colab_type": "code",
        "colab": {}
      },
      "source": [
        "numpy_example5 = numpy_example5.reshape(3,3)"
      ],
      "execution_count": null,
      "outputs": []
    },
    {
      "cell_type": "code",
      "metadata": {
        "id": "vLtAF6NXB3Zn",
        "colab_type": "code",
        "colab": {}
      },
      "source": [
        "numpy_example5"
      ],
      "execution_count": null,
      "outputs": []
    },
    {
      "cell_type": "markdown",
      "metadata": {
        "id": "j-g-AzGjcpbV",
        "colab_type": "text"
      },
      "source": [
        "Let's create a times table using numpy!"
      ]
    },
    {
      "cell_type": "code",
      "metadata": {
        "id": "Eh_m3b2SB4Zr",
        "colab_type": "code",
        "colab": {}
      },
      "source": [
        "times_table = np.zeros((9,9))"
      ],
      "execution_count": null,
      "outputs": []
    },
    {
      "cell_type": "code",
      "metadata": {
        "id": "J6bhNTCoB5f8",
        "colab_type": "code",
        "colab": {}
      },
      "source": [
        "times_table[0,:] = np.arange(1,10,1)"
      ],
      "execution_count": null,
      "outputs": []
    },
    {
      "cell_type": "code",
      "metadata": {
        "id": "ecB8lpOWB6tY",
        "colab_type": "code",
        "colab": {
          "base_uri": "https://localhost:8080/",
          "height": 176
        },
        "outputId": "476065e1-92c9-48d0-bc3b-854cf4d10dd5"
      },
      "source": [
        "times_table"
      ],
      "execution_count": null,
      "outputs": [
        {
          "output_type": "execute_result",
          "data": {
            "text/plain": [
              "array([[1., 2., 3., 4., 5., 6., 7., 8., 9.],\n",
              "       [0., 0., 0., 0., 0., 0., 0., 0., 0.],\n",
              "       [0., 0., 0., 0., 0., 0., 0., 0., 0.],\n",
              "       [0., 0., 0., 0., 0., 0., 0., 0., 0.],\n",
              "       [0., 0., 0., 0., 0., 0., 0., 0., 0.],\n",
              "       [0., 0., 0., 0., 0., 0., 0., 0., 0.],\n",
              "       [0., 0., 0., 0., 0., 0., 0., 0., 0.],\n",
              "       [0., 0., 0., 0., 0., 0., 0., 0., 0.],\n",
              "       [0., 0., 0., 0., 0., 0., 0., 0., 0.]])"
            ]
          },
          "metadata": {
            "tags": []
          },
          "execution_count": 148
        }
      ]
    },
    {
      "cell_type": "code",
      "metadata": {
        "id": "xkv28aPPB7my",
        "colab_type": "code",
        "colab": {}
      },
      "source": [
        "times_table[:,0] = np.arange(1,10,1)"
      ],
      "execution_count": null,
      "outputs": []
    },
    {
      "cell_type": "code",
      "metadata": {
        "id": "dHEjbMyLB85R",
        "colab_type": "code",
        "colab": {}
      },
      "source": [
        "times_table"
      ],
      "execution_count": null,
      "outputs": []
    },
    {
      "cell_type": "code",
      "metadata": {
        "id": "-mdgEWIiB9qz",
        "colab_type": "code",
        "colab": {}
      },
      "source": [
        "for i in range(0,9):\n",
        "    for j in range(0,9):\n",
        "        times_table[i,j] = times_table[i,0] * times_table[j,0]"
      ],
      "execution_count": null,
      "outputs": []
    },
    {
      "cell_type": "code",
      "metadata": {
        "id": "Xktf2ZDRB-oz",
        "colab_type": "code",
        "colab": {}
      },
      "source": [
        "times_table"
      ],
      "execution_count": null,
      "outputs": []
    },
    {
      "cell_type": "markdown",
      "metadata": {
        "id": "PPL8IDWOvvS_",
        "colab_type": "text"
      },
      "source": [
        "## 5. **Pandas**"
      ]
    },
    {
      "cell_type": "markdown",
      "metadata": {
        "id": "z-IsPUQ9Ap8A",
        "colab_type": "text"
      },
      "source": [
        "DataFrame is also a software library like Numpy that is used for data manipulation and analysis. Let's go over what the main difference between Numpy and Pandas are."
      ]
    },
    {
      "cell_type": "code",
      "metadata": {
        "id": "HMnhRtHyHTFZ",
        "colab_type": "code",
        "colab": {}
      },
      "source": [
        "import pandas as pd"
      ],
      "execution_count": null,
      "outputs": []
    },
    {
      "cell_type": "markdown",
      "metadata": {
        "id": "3KTSy2LddT0w",
        "colab_type": "text"
      },
      "source": [
        "The simplest form of Pandas is called *Series*. A series can take multiple data types unlike a numpy array. Let's create a series."
      ]
    },
    {
      "cell_type": "code",
      "metadata": {
        "id": "LcsxLlRedQou",
        "colab_type": "code",
        "colab": {}
      },
      "source": [
        "s = pd.Series([1, 2.0, \"3\", 4.0, 5, 6.0, 7, 8.0, 9])"
      ],
      "execution_count": null,
      "outputs": []
    },
    {
      "cell_type": "code",
      "metadata": {
        "id": "E-YiCH50f9Tc",
        "colab_type": "code",
        "colab": {}
      },
      "source": [
        "print(s)"
      ],
      "execution_count": null,
      "outputs": []
    },
    {
      "cell_type": "code",
      "metadata": {
        "id": "GZ25xSpbfeBD",
        "colab_type": "code",
        "colab": {}
      },
      "source": [
        "print(type(s[0]))\n",
        "print(type(s[1]))\n",
        "print(type(s[2]))"
      ],
      "execution_count": null,
      "outputs": []
    },
    {
      "cell_type": "markdown",
      "metadata": {
        "id": "mzzIzojHgAs1",
        "colab_type": "text"
      },
      "source": [
        "A DataFrame is a two-dimensional tabular data structure. Unlike Numpy arrays, you can have labeled axes with DataFrame. Let's create a simple DataFrame using lists."
      ]
    },
    {
      "cell_type": "code",
      "metadata": {
        "id": "2-pTWYe_hpFE",
        "colab_type": "code",
        "colab": {}
      },
      "source": [
        "animal_list = [\"Dog\", \"Cat\", \"Wolf\", \"Tiger\"]"
      ],
      "execution_count": null,
      "outputs": []
    },
    {
      "cell_type": "code",
      "metadata": {
        "id": "C-SUyD6OfVCJ",
        "colab_type": "code",
        "colab": {}
      },
      "source": [
        "df_example = pd.DataFrame(animal_list)"
      ],
      "execution_count": null,
      "outputs": []
    },
    {
      "cell_type": "code",
      "metadata": {
        "id": "cg_pgjQ7h_-e",
        "colab_type": "code",
        "colab": {}
      },
      "source": [
        "df_example"
      ],
      "execution_count": null,
      "outputs": []
    },
    {
      "cell_type": "markdown",
      "metadata": {
        "id": "XWgfO3dQie9N",
        "colab_type": "text"
      },
      "source": [
        "Let's add a label to this!"
      ]
    },
    {
      "cell_type": "code",
      "metadata": {
        "id": "Vmevw8xuihXt",
        "colab_type": "code",
        "colab": {}
      },
      "source": [
        "df_example.columns = [\"Animal\"]"
      ],
      "execution_count": null,
      "outputs": []
    },
    {
      "cell_type": "code",
      "metadata": {
        "id": "Z6vpue2Hi4-C",
        "colab_type": "code",
        "colab": {}
      },
      "source": [
        "df_example"
      ],
      "execution_count": null,
      "outputs": []
    },
    {
      "cell_type": "markdown",
      "metadata": {
        "id": "IkUh41jFi60p",
        "colab_type": "text"
      },
      "source": [
        "Now let's add information about their relative sizes with a label."
      ]
    },
    {
      "cell_type": "code",
      "metadata": {
        "id": "dp4-RjGdiRsQ",
        "colab_type": "code",
        "colab": {}
      },
      "source": [
        "size_list = [\"Small\", \"Small\", \"Big\", \"Big\"]"
      ],
      "execution_count": null,
      "outputs": []
    },
    {
      "cell_type": "code",
      "metadata": {
        "id": "I03igIZqiat8",
        "colab_type": "code",
        "colab": {}
      },
      "source": [
        "df_example[\"Size\"] = size_list"
      ],
      "execution_count": null,
      "outputs": []
    },
    {
      "cell_type": "code",
      "metadata": {
        "id": "S03GhUazic-W",
        "colab_type": "code",
        "colab": {}
      },
      "source": [
        "df_example"
      ],
      "execution_count": null,
      "outputs": []
    },
    {
      "cell_type": "code",
      "metadata": {
        "id": "Ve1tfdVzSP9x",
        "colab_type": "code",
        "colab": {}
      },
      "source": [
        "df_example['Animal']"
      ],
      "execution_count": null,
      "outputs": []
    },
    {
      "cell_type": "markdown",
      "metadata": {
        "id": "n9h7ENg-jDwS",
        "colab_type": "text"
      },
      "source": [
        "Next, we will open a CSV file about different kinds of cereals. Either np.loadtxt or pd.read_csv can be used to open a CSV file. Here we will use Pandas method since we are talking about Pandas in this section."
      ]
    },
    {
      "cell_type": "code",
      "metadata": {
        "id": "ulM2vnIwHSC_",
        "colab_type": "code",
        "colab": {}
      },
      "source": [
        "url = \"https://raw.githubusercontent.com/suhwanplee/Introduction-to-Python/student/cereal.csv\""
      ],
      "execution_count": null,
      "outputs": []
    },
    {
      "cell_type": "code",
      "metadata": {
        "id": "VDgjj3efHYvn",
        "colab_type": "code",
        "colab": {}
      },
      "source": [
        "df_cereal = pd.read_csv(url)"
      ],
      "execution_count": null,
      "outputs": []
    },
    {
      "cell_type": "code",
      "metadata": {
        "id": "yOOJoWqxHwIn",
        "colab_type": "code",
        "colab": {}
      },
      "source": [
        "df_cereal"
      ],
      "execution_count": null,
      "outputs": []
    },
    {
      "cell_type": "markdown",
      "metadata": {
        "id": "WIyiKirTjdVR",
        "colab_type": "text"
      },
      "source": [
        "Woah! That's a big table. There are ways you can call only the information you are interested in using. Column labels are extremely useful for this. For example, if you just want calories data, you can simply call by using the column label 'calories' and the associated values will be called."
      ]
    },
    {
      "cell_type": "code",
      "metadata": {
        "id": "xloYmvelX9Wk",
        "colab_type": "code",
        "colab": {}
      },
      "source": [
        "df_cereal['calories']"
      ],
      "execution_count": null,
      "outputs": []
    },
    {
      "cell_type": "markdown",
      "metadata": {
        "id": "YWhRZYARvxs2",
        "colab_type": "text"
      },
      "source": [
        "## 6. **Matplotlib**"
      ]
    },
    {
      "cell_type": "markdown",
      "metadata": {
        "id": "vwipzWobYX7O",
        "colab_type": "text"
      },
      "source": [
        "Matplotlib is the most popular method for visualization on Python and many other advanced visualization methods are built based on Matplotlib. Let's import matplotlib as plt. %matplotlib inline code allows you to visualize plots within the notebook."
      ]
    },
    {
      "cell_type": "code",
      "metadata": {
        "id": "NuZbQH4OYi3x",
        "colab_type": "code",
        "colab": {}
      },
      "source": [
        "import matplotlib.pyplot as plt\n",
        "%matplotlib inline"
      ],
      "execution_count": null,
      "outputs": []
    },
    {
      "cell_type": "markdown",
      "metadata": {
        "id": "g3LKcC0UlEMm",
        "colab_type": "text"
      },
      "source": [
        "Let's create a few simple plots."
      ]
    },
    {
      "cell_type": "code",
      "metadata": {
        "id": "gWUIRM6MYkoC",
        "colab_type": "code",
        "colab": {}
      },
      "source": [
        "plt.figure(figsize=(10,10)) # defines the plot size\n",
        "x = np.linspace(0, 10, 10) # creates 10 data points between 0 and 10 \n",
        "y = x\n",
        "plt.plot(x, y)"
      ],
      "execution_count": null,
      "outputs": []
    },
    {
      "cell_type": "markdown",
      "metadata": {
        "id": "sGVuUdmIlvCz",
        "colab_type": "text"
      },
      "source": [
        "How about a sine graph?"
      ]
    },
    {
      "cell_type": "code",
      "metadata": {
        "id": "wVQlpA6WliMx",
        "colab_type": "code",
        "colab": {}
      },
      "source": [
        "plt.figure(figsize=(10,10)) # defines the plot size\n",
        "x = np.linspace(0, 4*np.pi, 50) # creates 50 data points between 0 and 4 pi\n",
        "y = np.sin(x)\n",
        "plt.plot(x, y)"
      ],
      "execution_count": null,
      "outputs": []
    },
    {
      "cell_type": "markdown",
      "metadata": {
        "id": "Egc4FLjvlhDz",
        "colab_type": "text"
      },
      "source": [
        "We can even plot both sine graph and cosine graph in the same plot."
      ]
    },
    {
      "cell_type": "code",
      "metadata": {
        "id": "rrghuRAyYhtZ",
        "colab_type": "code",
        "colab": {}
      },
      "source": [
        "plt.figure(figsize=(10,10)) # defines the plot size\n",
        "x = np.linspace(0, 4*np.pi, 50) # creates 50 data points between 0 and 4 pi\n",
        "y1 = np.sin(x)\n",
        "y2 = np.cos(x)\n",
        "plt.plot(x, y1, label=\"Sine\") # plot sine graph\n",
        "plt.plot(x, y2, label=\"Cosine\") # plot cosine graph"
      ],
      "execution_count": null,
      "outputs": []
    },
    {
      "cell_type": "markdown",
      "metadata": {
        "id": "fvWnaJqXnZgd",
        "colab_type": "text"
      },
      "source": [
        "Now, let's visualize the cereal data by making plots! How about we look at the relationship between calories and rating first?"
      ]
    },
    {
      "cell_type": "code",
      "metadata": {
        "id": "jGxe8cjKnlTp",
        "colab_type": "code",
        "colab": {}
      },
      "source": [
        "plt.figure(figsize=(10,10)) # defines the plot size\n",
        "x = df_cereal['calories'] # calories data from the DataFrame\n",
        "y = df_cereal['rating'] # rating data from the DataFrame\n",
        "plt.bar(x, y)"
      ],
      "execution_count": null,
      "outputs": []
    },
    {
      "cell_type": "markdown",
      "metadata": {
        "id": "B5v-B83xoNTO",
        "colab_type": "text"
      },
      "source": [
        "Let's add a title and labels to this plot."
      ]
    },
    {
      "cell_type": "code",
      "metadata": {
        "id": "eI7QVdTRowtu",
        "colab_type": "code",
        "colab": {}
      },
      "source": [
        "plt.figure(figsize=(10,10)) # defines the plot size\n",
        "x = df_cereal['calories'] # calories data from the DataFrame\n",
        "y = df_cereal['rating'] # rating data from the DataFrame\n",
        "\n",
        "plt.title(\"The relationship between calories and rating among 80 cereals\", fontsize=16)\n",
        "plt.xlabel(\"Calories\", fontsize=14)\n",
        "plt.ylabel(\"Rating\", fontsize=14)\n",
        "\n",
        "plt.scatter(x, y)"
      ],
      "execution_count": null,
      "outputs": []
    }
  ]
}